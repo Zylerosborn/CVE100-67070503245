{
  "cells": [
    {
      "cell_type": "markdown",
      "metadata": {
        "id": "5aFBLgCVg5S-"
      },
      "source": [
        "#  Numbers"
      ]
    },
    {
      "cell_type": "markdown",
      "metadata": {
        "id": "tbwbUi7og5TA"
      },
      "source": [
        "Compute the number of bytes in one Gigabyte (1kb = 1024 bytes, 1mb = 1024 kb, 1gb = 1024 mb)"
      ]
    },
    {
      "cell_type": "code",
      "execution_count": null,
      "metadata": {
        "colab": {
          "base_uri": "https://localhost:8080/"
        },
        "id": "zCIoqGDkg5TA",
        "outputId": "b5eaa7c5-8048-45fa-afae-b62388ae5c18"
      },
      "outputs": [
        {
          "output_type": "stream",
          "name": "stdout",
          "text": [
            "1 Gibibyte  = 1073741824 bytes\n"
          ]
        }
      ],
      "source": [
        "gigabyte = 1024 ** 3\n",
        "\n",
        "print(\"1 Gibibyte  =\", gigabyte, \"bytes\")\n"
      ]
    },
    {
      "cell_type": "markdown",
      "metadata": {
        "id": "Jii3s9byg5TA"
      },
      "source": [
        "You bought 500 shares of stock A at $\\$$600 on day 0 and you sold it at  $\\$$1000 on day 700.\n",
        "The daily discount rate is 0.0001%. How much profit did you make in terms of net present value.\n"
      ]
    },
    {
      "cell_type": "code",
      "execution_count": null,
      "metadata": {
        "colab": {
          "base_uri": "https://localhost:8080/"
        },
        "id": "bJBEboPCg5TB",
        "outputId": "b60f79c1-d98e-48e7-f5c4-4bca941c51e2"
      },
      "outputs": [
        {
          "output_type": "stream",
          "name": "stdout",
          "text": [
            "Initial Investment: $ 300000\n",
            "Future Value: $ 500000\n",
            "Present Value: $ 499650.12\n",
            "NPV Profit: $ 199650.12\n"
          ]
        }
      ],
      "source": [
        "shares = 500\n",
        "buy_price = 600\n",
        "sell_price = 1000\n",
        "days = 700\n",
        "daily_discount_rate = 0.0001 / 100  # convert % to decimal\n",
        "\n",
        "initial_investment = shares * buy_price\n",
        "\n",
        "future_value = shares * sell_price\n",
        "\n",
        "discount_factor = 1 / ((1 + daily_discount_rate) ** days)\n",
        "\n",
        "present_value = future_value * discount_factor\n",
        "\n",
        "npv_profit = present_value - initial_investment\n",
        "\n",
        "print(\"Initial Investment: $\", initial_investment)\n",
        "print(\"Future Value: $\", future_value)\n",
        "print(\"Present Value: $\", round(present_value, 2))\n",
        "print(\"NPV Profit: $\", round(npv_profit, 2))\n"
      ]
    },
    {
      "cell_type": "markdown",
      "metadata": {
        "id": "OQ5MUlsqg5TB"
      },
      "source": [
        "For any value of x, create a variable called even_check that is True if x is even and False if x is odd."
      ]
    },
    {
      "cell_type": "code",
      "execution_count": null,
      "metadata": {
        "run_control": {
          "marked": true
        },
        "colab": {
          "base_uri": "https://localhost:8080/"
        },
        "id": "J3XCoHm5g5TB",
        "outputId": "07582c4f-364c-4409-f28e-841fb6f7e9ce"
      },
      "outputs": [
        {
          "output_type": "stream",
          "name": "stdout",
          "text": [
            "Enter a number: 5\n",
            "x is odd\n"
          ]
        }
      ],
      "source": [
        "x = float (input(\"Enter a number: \"))\n",
        "even_check = (x % 2 == 0)\n",
        "if even_check:\n",
        "    print(\"x is even\")\n",
        "else:\n",
        "    print(\"x is odd\")\n",
        "\n"
      ]
    },
    {
      "cell_type": "markdown",
      "metadata": {
        "id": "gL_xFsWNg5TB"
      },
      "source": [
        "You have num_shirts t-shirts, num_shorts pairs of shorts and num_shoes pairs of shoes.  Create a variable called num_outfits that stores the total number of different outfits you can make."
      ]
    },
    {
      "cell_type": "code",
      "execution_count": null,
      "metadata": {
        "colab": {
          "base_uri": "https://localhost:8080/"
        },
        "id": "A42IwhW-g5TB",
        "outputId": "99eea968-cea6-406d-c439-44b98f3fd83b"
      },
      "outputs": [
        {
          "output_type": "stream",
          "name": "stdout",
          "text": [
            "the number of t-shirts= 8\n",
            "the number of shorts= 6\n",
            "the number of shoes= 1\n",
            "Total number of outfits= 48.0\n"
          ]
        }
      ],
      "source": [
        "num1 = float (input (\"the number of t-shirts= \"))\n",
        "num2 = float (input (\"the number of shorts= \"))\n",
        "num3 = float (input (\"the number of shoes= \"))\n",
        "num_outfits = num1 * num2 * num3\n",
        "print(\"Total number of outfits=\", num_outfits)\n"
      ]
    },
    {
      "cell_type": "markdown",
      "metadata": {
        "id": "bFuCTp76g5TC"
      },
      "source": [
        "# String Practice\n",
        "\n",
        "Create variable called \"name\" that stores your full name. Find whether your name has an even or odd number of letters."
      ]
    },
    {
      "cell_type": "code",
      "execution_count": null,
      "metadata": {
        "colab": {
          "base_uri": "https://localhost:8080/"
        },
        "id": "sYxV-HeMg5TC",
        "outputId": "cc680be1-5fbe-4d89-e794-207124d64c4e"
      },
      "outputs": [
        {
          "output_type": "stream",
          "name": "stdout",
          "text": [
            "The name has an even number of letters.\n"
          ]
        }
      ],
      "source": [
        "name = 'kyawhtinlin aungchan'\n",
        "if len(name) % 2 == 0:\n",
        "    print(\"The name has an even number of letters.\")\n",
        "else:\n",
        "    print(\"The name has an odd number of letters.\")\n"
      ]
    },
    {
      "cell_type": "markdown",
      "metadata": {
        "id": "j68pQPf3g5TC"
      },
      "source": [
        "Correct the following variable so it is equal to \"spammy\""
      ]
    },
    {
      "cell_type": "code",
      "execution_count": 8,
      "metadata": {
        "id": "EbmcGaf_g5TC",
        "colab": {
          "base_uri": "https://localhost:8080/",
          "height": 35
        },
        "outputId": "b363785c-b117-4630-8be6-cddfef4e74e7"
      },
      "outputs": [
        {
          "output_type": "execute_result",
          "data": {
            "text/plain": [
              "'spammy'"
            ],
            "application/vnd.google.colaboratory.intrinsic+json": {
              "type": "string"
            }
          },
          "metadata": {},
          "execution_count": 8
        }
      ],
      "source": [
        "\n",
        "s = \"spaxxy\"\n",
        "l = \"mm\"\n",
        "a = s[:3]+ l[:2]+ s[5]\n",
        "a"
      ]
    },
    {
      "cell_type": "markdown",
      "metadata": {
        "id": "x52o70zPg5TC"
      },
      "source": [
        "Figure out a way to slice and combine the strings s1, s2, and s3 so that the variable consec_ints = \"123456789\"."
      ]
    },
    {
      "cell_type": "code",
      "execution_count": 7,
      "metadata": {
        "id": "uc1o5123g5TC",
        "colab": {
          "base_uri": "https://localhost:8080/"
        },
        "outputId": "87c011c4-4d66-4c48-c743-38dd712c4eaf"
      },
      "outputs": [
        {
          "output_type": "stream",
          "name": "stdout",
          "text": [
            "123456789\n"
          ]
        }
      ],
      "source": [
        "s1 = \"12345\"\n",
        "s2 = \"34567\"\n",
        "s3 = \"789\"\n",
        "\n",
        "\n",
        "consec_ints = s1 + s2[3:5] + s3[1:]\n",
        "print(consec_ints)"
      ]
    },
    {
      "cell_type": "markdown",
      "metadata": {
        "id": "2eEoeH2zg5TC"
      },
      "source": [
        "#  List Practice\n",
        "\n"
      ]
    },
    {
      "cell_type": "markdown",
      "metadata": {
        "id": "XSCphD8ag5TC"
      },
      "source": [
        "Add the first and last elements of the list L. Store the result in a variable called sum_first_last. Your code should work if I change L."
      ]
    },
    {
      "cell_type": "code",
      "execution_count": 18,
      "metadata": {
        "id": "dKz0RQyGg5TD",
        "colab": {
          "base_uri": "https://localhost:8080/"
        },
        "outputId": "0d61fe43-b7e2-45d0-aaaa-689e5bac576a"
      },
      "outputs": [
        {
          "output_type": "stream",
          "name": "stdout",
          "text": [
            "10\n"
          ]
        }
      ],
      "source": [
        "L = [5,1,43,2,4,56,7,90,67,5]\n",
        "\n",
        "first_element = L[0]\n",
        "last_element = L[-1]\n",
        "sum_first_last = first_element + last_element\n",
        "print(sum_first_last)\n"
      ]
    },
    {
      "cell_type": "markdown",
      "metadata": {
        "id": "780-PIfyg5TD"
      },
      "source": [
        "Slice and combine the elements of the list L in a way to print out \"spam\"."
      ]
    },
    {
      "cell_type": "code",
      "execution_count": 20,
      "metadata": {
        "id": "LHRdN_S5g5TD",
        "colab": {
          "base_uri": "https://localhost:8080/"
        },
        "outputId": "383408db-43a7-476a-a5b1-01f57f1cd12e"
      },
      "outputs": [
        {
          "output_type": "stream",
          "name": "stdout",
          "text": [
            "spam\n"
          ]
        }
      ],
      "source": [
        "L = [1,\"s\", 2, 3, \"p\", \"a\", 34,1,\"m\"]\n",
        "\n",
        "a = L[1] + L[4] + L[5] + L[8]\n",
        "print(a)\n",
        "\n",
        "\n"
      ]
    },
    {
      "cell_type": "markdown",
      "metadata": {
        "id": "AiIHz57gg5TD"
      },
      "source": [
        "Create a variable called num_L which store the number represented by the list of strings in L.  For the example num_L should be 145. You may assume 3 digit numbers."
      ]
    },
    {
      "cell_type": "code",
      "execution_count": 22,
      "metadata": {
        "id": "5uyhfKIUg5TD",
        "colab": {
          "base_uri": "https://localhost:8080/"
        },
        "outputId": "c40bdbc0-e41c-46f2-cea7-3e80fcee02b1"
      },
      "outputs": [
        {
          "output_type": "stream",
          "name": "stdout",
          "text": [
            "145\n"
          ]
        }
      ],
      "source": [
        "L = [\"1\",\"4\",\"5\" ]\n",
        "\n",
        "num_L = L[0]+ L[1]+ L[2]\n",
        "print(num_L)\n"
      ]
    },
    {
      "cell_type": "markdown",
      "metadata": {
        "id": "gtjABhOug5TD"
      },
      "source": [
        "Create a list L of numbers of odd length.  Complete the following tasks:\n",
        "\n",
        " - Find the median element\n",
        " - Slice out all element indexed lower than the median element"
      ]
    },
    {
      "cell_type": "code",
      "execution_count": 26,
      "metadata": {
        "id": "-XQE2cZpg5TD",
        "colab": {
          "base_uri": "https://localhost:8080/"
        },
        "outputId": "859e491d-505b-497b-a1fd-f6ceecd1e711"
      },
      "outputs": [
        {
          "output_type": "stream",
          "name": "stdout",
          "text": [
            "Median element= 2\n",
            "Sliced list= [2, 6, 6, 9]\n"
          ]
        }
      ],
      "source": [
        "L= [4,5,3,2,6,6,9]\n",
        "\n",
        "mid_index= len(L) // 2\n",
        "median_element = L[mid_index]\n",
        "print(\"Median element=\", median_element)\n",
        "\n",
        "sliced_list = L[mid_index:]\n",
        "print(\"Sliced list=\", sliced_list)\n",
        "\n",
        "\n"
      ]
    }
  ],
  "metadata": {
    "kernelspec": {
      "display_name": "Python 3",
      "language": "python",
      "name": "python3"
    },
    "language_info": {
      "codemirror_mode": {
        "name": "ipython",
        "version": 3
      },
      "file_extension": ".py",
      "mimetype": "text/x-python",
      "name": "python",
      "nbconvert_exporter": "python",
      "pygments_lexer": "ipython3",
      "version": "3.6.0"
    },
    "toc": {
      "colors": {
        "hover_highlight": "#DAA520",
        "navigate_num": "#000000",
        "navigate_text": "#333333",
        "running_highlight": "#FF0000",
        "selected_highlight": "#FFD700",
        "sidebar_border": "#EEEEEE",
        "wrapper_background": "#FFFFFF"
      },
      "moveMenuLeft": true,
      "nav_menu": {
        "height": "12px",
        "width": "252px"
      },
      "navigate_menu": true,
      "number_sections": true,
      "sideBar": true,
      "skip_h1_title": false,
      "threshold": 4,
      "toc_cell": false,
      "toc_position": {},
      "toc_section_display": "block",
      "toc_window_display": false,
      "widenNotebook": false
    },
    "colab": {
      "provenance": []
    }
  },
  "nbformat": 4,
  "nbformat_minor": 0
}