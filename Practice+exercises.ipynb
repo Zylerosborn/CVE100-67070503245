{
  "cells": [
    {
      "cell_type": "markdown",
      "id": "186222d0",
      "metadata": {
        "id": "186222d0"
      },
      "source": [
        "Exercise 1\n",
        "\n",
        "Write a function to report the weather condition.\n",
        "Input ==> Temperature ('C)\n",
        "\n",
        "IF the temperature is below 0, print \"Freezing Cold\"\n",
        "IF the temperature is 0-20, print \"Cold Weather\"\n",
        "IF the temperature is 21-30, print \" Warm Weather\"\n",
        "Otherwise, print \"Hot Weather\""
      ]
    },
    {
      "cell_type": "code",
      "execution_count": 14,
      "id": "4bbb422e",
      "metadata": {
        "id": "4bbb422e",
        "colab": {
          "base_uri": "https://localhost:8080/"
        },
        "outputId": "b6e3b256-2c51-435a-ed04-f6739a2d4871"
      },
      "outputs": [
        {
          "output_type": "stream",
          "name": "stdout",
          "text": [
            "Temperature (C) is 0\n",
            "Cold Weather\n"
          ]
        }
      ],
      "source": [
        "def weather_report(temp: float):\n",
        "    if temp < 0:\n",
        "        print(\"Freezing Cold\")\n",
        "    elif 0 <= temp <= 20:\n",
        "        print(\"Cold Weather\")\n",
        "    elif 21 <= temp <= 30:\n",
        "        print(\"Warm Weather\")\n",
        "    else:\n",
        "        print(\"Hot Weather\")\n",
        "x = float (input(\"Temperature (C) is \"))\n",
        "weather_report(x)"
      ]
    },
    {
      "cell_type": "markdown",
      "id": "36f44c18",
      "metadata": {
        "id": "36f44c18"
      },
      "source": [
        "Exercise 2\n",
        "\n",
        "Write a function that takes an integer as an input score\n",
        "\n",
        "If the score is greater than or equal to 50, print \"Pass\"\n",
        "If the score is greater than or equal to 75, print \"Good\"\n",
        "If the score is exactly 100, print \"Perfect\"\n",
        "\n",
        "Since these are multiple independent conditions, more than one message print"
      ]
    },
    {
      "cell_type": "code",
      "execution_count": 15,
      "id": "b3971fd8",
      "metadata": {
        "id": "b3971fd8",
        "colab": {
          "base_uri": "https://localhost:8080/"
        },
        "outputId": "c955efe3-11fb-4f25-83e1-9ce7f68a18f4"
      },
      "outputs": [
        {
          "output_type": "stream",
          "name": "stdout",
          "text": [
            "Score is 56\n",
            "Pass\n"
          ]
        }
      ],
      "source": [
        "def get_score(score: float):\n",
        "    if score >= 50:\n",
        "        print(\"Pass\")\n",
        "    if score >= 75:\n",
        "        print(\"Good\")\n",
        "    if score == 100:\n",
        "        print(\"Perfect\")\n",
        "score = int(input(\"Score is \"))\n",
        "get_score(score)"
      ]
    },
    {
      "cell_type": "markdown",
      "id": "5c1b906e",
      "metadata": {
        "id": "5c1b906e"
      },
      "source": [
        "Exercise 3\n",
        "\n",
        "Write a program that returns the count of vowels in the string. Use a for loop to go through each character in the string.\n",
        "\n",
        "Input ==> apple, Output ==> 2\n",
        "\n",
        "Input ==> Hello World, Output => 3\n",
        "\n",
        "Input ==> balloon, Output ==> 3"
      ]
    },
    {
      "cell_type": "code",
      "execution_count": 16,
      "id": "64239a6d",
      "metadata": {
        "id": "64239a6d",
        "colab": {
          "base_uri": "https://localhost:8080/"
        },
        "outputId": "93d001eb-2118-44a2-e6eb-f4626f7589f5"
      },
      "outputs": [
        {
          "output_type": "stream",
          "name": "stdout",
          "text": [
            "2\n",
            "3\n",
            "3\n"
          ]
        }
      ],
      "source": [
        "def count_vowels(st: str):\n",
        "    count = 0\n",
        "    vowels = \"aeiouAEIOU\"\n",
        "    for x in st:\n",
        "        if x in vowels:\n",
        "            count += 1\n",
        "    return count\n",
        "print(count_vowels(\"apple\"))\n",
        "print(count_vowels(\"Hello World\"))\n",
        "print(count_vowels(\"balloon\"))"
      ]
    }
  ],
  "metadata": {
    "language_info": {
      "name": "python"
    },
    "colab": {
      "provenance": []
    },
    "kernelspec": {
      "name": "python3",
      "display_name": "Python 3"
    }
  },
  "nbformat": 4,
  "nbformat_minor": 5
}