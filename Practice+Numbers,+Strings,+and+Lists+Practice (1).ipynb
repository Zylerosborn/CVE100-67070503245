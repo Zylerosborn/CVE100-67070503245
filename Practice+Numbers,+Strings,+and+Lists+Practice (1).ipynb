{
  "cells": [
    {
      "cell_type": "markdown",
      "metadata": {
        "id": "5aFBLgCVg5S-"
      },
      "source": [
        "#  Numbers"
      ]
    },
    {
      "cell_type": "markdown",
      "metadata": {
        "id": "tbwbUi7og5TA"
      },
      "source": [
        "Compute the number of bytes in one Gigabyte (1kb = 1024 bytes, 1mb = 1024 kb, 1gb = 1024 mb)"
      ]
    },
    {
      "cell_type": "code",
      "execution_count": 2,
      "metadata": {
        "colab": {
          "base_uri": "https://localhost:8080/"
        },
        "id": "zCIoqGDkg5TA",
        "outputId": "d7de28d7-263f-419c-c130-6118d439b87d"
      },
      "outputs": [
        {
          "output_type": "stream",
          "name": "stdout",
          "text": [
            "1 Gibibyte (binary)  = 1073741824 bytes\n"
          ]
        }
      ],
      "source": [
        "# Binary system - 1 GiB = 2^30 bytes\n",
        "gigabyte_binary = 1024 ** 3\n",
        "\n",
        "print(\"1 Gibibyte (binary)  =\", gigabyte_binary, \"bytes\")\n"
      ]
    },
    {
      "cell_type": "markdown",
      "metadata": {
        "id": "Jii3s9byg5TA"
      },
      "source": [
        "You bought 500 shares of stock A at $\\$$600 on day 0 and you sold it at  $\\$$1000 on day 700.\n",
        "The daily discount rate is 0.0001%. How much profit did you make in terms of net present value.\n"
      ]
    },
    {
      "cell_type": "code",
      "execution_count": 3,
      "metadata": {
        "colab": {
          "base_uri": "https://localhost:8080/"
        },
        "id": "bJBEboPCg5TB",
        "outputId": "b60f79c1-d98e-48e7-f5c4-4bca941c51e2"
      },
      "outputs": [
        {
          "output_type": "stream",
          "name": "stdout",
          "text": [
            "Initial Investment: $ 300000\n",
            "Future Value: $ 500000\n",
            "Present Value: $ 499650.12\n",
            "NPV Profit: $ 199650.12\n"
          ]
        }
      ],
      "source": [
        "# Parameters\n",
        "shares = 500\n",
        "buy_price = 600\n",
        "sell_price = 1000\n",
        "days = 700\n",
        "daily_discount_rate = 0.0001 / 100  # convert % to decimal\n",
        "\n",
        "# Initial investment\n",
        "initial_investment = shares * buy_price\n",
        "\n",
        "# Future value from selling shares\n",
        "future_value = shares * sell_price\n",
        "\n",
        "# Discount factor\n",
        "discount_factor = 1 / ((1 + daily_discount_rate) ** days)\n",
        "\n",
        "# Present value of sale\n",
        "present_value = future_value * discount_factor\n",
        "\n",
        "# NPV Profit\n",
        "npv_profit = present_value - initial_investment\n",
        "\n",
        "print(\"Initial Investment: $\", initial_investment)\n",
        "print(\"Future Value: $\", future_value)\n",
        "print(\"Present Value: $\", round(present_value, 2))\n",
        "print(\"NPV Profit: $\", round(npv_profit, 2))\n"
      ]
    },
    {
      "cell_type": "markdown",
      "metadata": {
        "id": "OQ5MUlsqg5TB"
      },
      "source": [
        "For any value of x, create a variable called even_check that is True if x is even and False if x is odd."
      ]
    },
    {
      "cell_type": "code",
      "execution_count": 7,
      "metadata": {
        "run_control": {
          "marked": true
        },
        "colab": {
          "base_uri": "https://localhost:8080/"
        },
        "id": "J3XCoHm5g5TB",
        "outputId": "07582c4f-364c-4409-f28e-841fb6f7e9ce"
      },
      "outputs": [
        {
          "output_type": "stream",
          "name": "stdout",
          "text": [
            "Enter a number: 5\n",
            "x is odd\n"
          ]
        }
      ],
      "source": [
        "x = float (input(\"Enter a number: \"))\n",
        "even_check = (x % 2 == 0)\n",
        "if even_check:\n",
        "    print(\"x is even\")\n",
        "else:\n",
        "    print(\"x is odd\")\n",
        "\n"
      ]
    },
    {
      "cell_type": "markdown",
      "metadata": {
        "id": "gL_xFsWNg5TB"
      },
      "source": [
        "You have num_shirts t-shirts, num_shorts pairs of shorts and num_shoes pairs of shoes.  Create a variable called num_outfits that stores the total number of different outfits you can make."
      ]
    },
    {
      "cell_type": "code",
      "execution_count": 15,
      "metadata": {
        "colab": {
          "base_uri": "https://localhost:8080/"
        },
        "id": "A42IwhW-g5TB",
        "outputId": "efb202a9-9505-4a39-f443-611a41df0d13"
      },
      "outputs": [
        {
          "output_type": "stream",
          "name": "stdout",
          "text": [
            "Enter the number of t-shirts= 7\n",
            "Enter the number of shorts= 5\n",
            "Enter the number of shoes= 3\n",
            "Total number of outfits: 105.0\n"
          ]
        }
      ],
      "source": [
        "num1 = float (input (\"Enter the number of t-shirts= \"))\n",
        "num2 = float (input (\"Enter the number of shorts= \"))\n",
        "num3 = float (input (\"Enter the number of shoes= \"))\n",
        "num_outfits = num1 * num2 * num3\n",
        "print(\"Total number of outfits:\", num_outfits)\n"
      ]
    },
    {
      "cell_type": "markdown",
      "metadata": {
        "id": "bFuCTp76g5TC"
      },
      "source": [
        "# String Practice\n",
        "\n",
        "Create variable called \"name\" that stores your full name. Find whether your name has an even or odd number of letters."
      ]
    },
    {
      "cell_type": "code",
      "execution_count": 17,
      "metadata": {
        "colab": {
          "base_uri": "https://localhost:8080/"
        },
        "id": "sYxV-HeMg5TC",
        "outputId": "33d1a2e8-f4e9-46ba-81c3-85aef23954ec"
      },
      "outputs": [
        {
          "output_type": "stream",
          "name": "stdout",
          "text": [
            "The name has an odd number of letters.\n"
          ]
        }
      ],
      "source": [
        "name = 'kyaw htin lin aung chan'\n",
        "if len(name) % 2 == 0:\n",
        "    print(\"The name has an even number of letters.\")\n",
        "else:\n",
        "    print(\"The name has an odd number of letters.\")\n"
      ]
    },
    {
      "cell_type": "markdown",
      "metadata": {
        "id": "j68pQPf3g5TC"
      },
      "source": [
        "Correct the following variable so it is equal to \"spammy\""
      ]
    },
    {
      "cell_type": "code",
      "execution_count": null,
      "metadata": {
        "id": "EbmcGaf_g5TC"
      },
      "outputs": [],
      "source": [
        "#Write your code here\n",
        "s = \"spaxxy\"\n"
      ]
    },
    {
      "cell_type": "markdown",
      "metadata": {
        "id": "x52o70zPg5TC"
      },
      "source": [
        "Figure out a way to slice and combine the strings s1, s2, and s3 so that the variable consec_ints = \"123456789\"."
      ]
    },
    {
      "cell_type": "code",
      "execution_count": null,
      "metadata": {
        "id": "uc1o5123g5TC"
      },
      "outputs": [],
      "source": [
        "s1 = \"12345\"\n",
        "s2 = \"34567\"\n",
        "s3 = \"789\"\n",
        "\n",
        "#Write your code here\n",
        "\n"
      ]
    },
    {
      "cell_type": "markdown",
      "metadata": {
        "id": "2eEoeH2zg5TC"
      },
      "source": [
        "#  List Practice\n",
        "\n"
      ]
    },
    {
      "cell_type": "markdown",
      "metadata": {
        "id": "XSCphD8ag5TC"
      },
      "source": [
        "Add the first and last elements of the list L. Store the result in a variable called sum_first_last. Your code should work if I change L."
      ]
    },
    {
      "cell_type": "code",
      "execution_count": null,
      "metadata": {
        "id": "dKz0RQyGg5TD"
      },
      "outputs": [],
      "source": [
        "L = [5,1,43,2,4,56,7,90, 67]\n",
        "\n",
        "#Write your code here\n"
      ]
    },
    {
      "cell_type": "markdown",
      "metadata": {
        "id": "780-PIfyg5TD"
      },
      "source": [
        "Slice and combine the elements of the list L in a way to print out \"spam\"."
      ]
    },
    {
      "cell_type": "code",
      "execution_count": null,
      "metadata": {
        "id": "LHRdN_S5g5TD"
      },
      "outputs": [],
      "source": [
        "L = [1,\"s\", 2, 3, \"p\", \"a\", 34,1,\"m\"]\n",
        "\n",
        "\n",
        "#Write your code here\n",
        "\n"
      ]
    },
    {
      "cell_type": "markdown",
      "metadata": {
        "id": "AiIHz57gg5TD"
      },
      "source": [
        "Create a variable called num_L which store the number represented by the list of strings in L.  For the example num_L should be 145. You may assume 3 digit numbers."
      ]
    },
    {
      "cell_type": "code",
      "execution_count": null,
      "metadata": {
        "id": "5uyhfKIUg5TD"
      },
      "outputs": [],
      "source": [
        "L = [\"1\",\"4\",\"5\" ]\n",
        "\n",
        "#Write you code here\n"
      ]
    },
    {
      "cell_type": "markdown",
      "metadata": {
        "id": "gtjABhOug5TD"
      },
      "source": [
        "Create a list L of numbers of odd length.  Complete the following tasks:\n",
        "\n",
        " - Find the median element\n",
        " - Slice out all element indexed lower than the median element"
      ]
    },
    {
      "cell_type": "code",
      "execution_count": null,
      "metadata": {
        "id": "-XQE2cZpg5TD"
      },
      "outputs": [],
      "source": [
        "L= [4,5,3,2,6,6,9]\n",
        "\n",
        "#Write your code here\n"
      ]
    }
  ],
  "metadata": {
    "kernelspec": {
      "display_name": "Python 3",
      "language": "python",
      "name": "python3"
    },
    "language_info": {
      "codemirror_mode": {
        "name": "ipython",
        "version": 3
      },
      "file_extension": ".py",
      "mimetype": "text/x-python",
      "name": "python",
      "nbconvert_exporter": "python",
      "pygments_lexer": "ipython3",
      "version": "3.6.0"
    },
    "toc": {
      "colors": {
        "hover_highlight": "#DAA520",
        "navigate_num": "#000000",
        "navigate_text": "#333333",
        "running_highlight": "#FF0000",
        "selected_highlight": "#FFD700",
        "sidebar_border": "#EEEEEE",
        "wrapper_background": "#FFFFFF"
      },
      "moveMenuLeft": true,
      "nav_menu": {
        "height": "12px",
        "width": "252px"
      },
      "navigate_menu": true,
      "number_sections": true,
      "sideBar": true,
      "skip_h1_title": false,
      "threshold": 4,
      "toc_cell": false,
      "toc_position": {},
      "toc_section_display": "block",
      "toc_window_display": false,
      "widenNotebook": false
    },
    "colab": {
      "provenance": []
    }
  },
  "nbformat": 4,
  "nbformat_minor": 0
}