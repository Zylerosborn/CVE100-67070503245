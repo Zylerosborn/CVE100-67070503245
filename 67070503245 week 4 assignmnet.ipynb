{
 "cells": [
  {
   "cell_type": "markdown",
   "id": "ba7a02d7",
   "metadata": {},
   "source": [
    "# Even and Odd\n",
    "iterate for loop from number 1 to n:\n",
    "if the number is even, print \"[number] is even\"\n",
    "otherwise, print \"[number] is odd\":\n",
    "\n",
    "if n = ==> expected output\n",
    "0 is even.\n",
    "1 is odd.\n",
    "2 is even.\n",
    "3 is odd.\n",
    "4 is even.\n"
   ]
  },
  {
   "cell_type": "code",
   "execution_count": 1,
   "id": "2be1cf08",
   "metadata": {},
   "outputs": [
    {
     "name": "stdout",
     "output_type": "stream",
     "text": [
      "1 is odd\n",
      "2 is even\n",
      "3 is odd\n",
      "4 is even\n",
      "5 is odd\n",
      "6 is even\n",
      "7 is odd\n",
      "8 is even\n",
      "9 is odd\n",
      "10 is even\n",
      "11 is odd\n",
      "12 is even\n",
      "13 is odd\n",
      "14 is even\n",
      "15 is odd\n",
      "16 is even\n",
      "17 is odd\n",
      "18 is even\n",
      "19 is odd\n",
      "20 is even\n",
      "21 is odd\n",
      "22 is even\n",
      "23 is odd\n",
      "24 is even\n",
      "25 is odd\n",
      "26 is even\n",
      "27 is odd\n",
      "28 is even\n",
      "29 is odd\n"
     ]
    }
   ],
   "source": [
    "n=30\n",
    "for i in range(1,n):\n",
    "    if i % 2==0:\n",
    "        print (i, \"is even\")\n",
    "    else:\n",
    "        print (i, \"is odd\")\n",
    "\n",
    "\n"
   ]
  },
  {
   "cell_type": "markdown",
   "id": "20ac383c",
   "metadata": {},
   "source": [
    "Multiplication\n",
    "- define n (n=5)\n",
    "- use a loop from 1 to 10 (the values of 1 is 1 to 10)\n",
    "- if the result of multiplication (num*i) is greater than 50 => print (\"The result is large\")\n",
    "- otherwise, print the actual resuslt ==> print (\"Result=\", result)\n"
   ]
  },
  {
   "cell_type": "code",
   "execution_count": 14,
   "id": "accaf138",
   "metadata": {},
   "outputs": [
    {
     "name": "stdout",
     "output_type": "stream",
     "text": [
      "Result= 6\n",
      "Result= 12\n",
      "Result= 18\n",
      "Result= 24\n",
      "Result= 30\n",
      "Result= 36\n",
      "Result= 42\n",
      "Result= 48\n",
      "The result is large\n"
     ]
    }
   ],
   "source": [
    "n=6\n",
    "for i in range(1,10):\n",
    "    result= n*i\n",
    "    if result > 50:\n",
    "        print (\"The result is large\")\n",
    "    else:\n",
    "        print (\"Result=\", result)\n",
    "\n"
   ]
  },
  {
   "cell_type": "markdown",
   "id": "e4a92e8f",
   "metadata": {},
   "source": [
    "Skipping the special numbers\n",
    "\n",
    "define n\n",
    "loop numbers from 1 to n\n",
    "if the number is divisible 4 ==> skip it with continue\n",
    "if the number is greater than 20 ==> stop the loop with break\n",
    "otherwise --> print the number"
   ]
  },
  {
   "cell_type": "code",
   "execution_count": 3,
   "id": "f1e88724",
   "metadata": {},
   "outputs": [
    {
     "name": "stdout",
     "output_type": "stream",
     "text": [
      "1\n",
      "2\n",
      "3\n",
      "5\n",
      "6\n",
      "7\n",
      "9\n",
      "10\n",
      "11\n",
      "13\n",
      "14\n",
      "15\n",
      "17\n",
      "18\n",
      "19\n"
     ]
    }
   ],
   "source": [
    "\n",
    "for i in range(1,40):\n",
    "    if i%4 ==0:\n",
    "        continue\n",
    "    if i > 20:\n",
    "        break\n",
    "    print(i)"
   ]
  },
  {
   "cell_type": "markdown",
   "id": "f91a06aa",
   "metadata": {},
   "source": [
    "Guess the number\n",
    "The secrete number is 777\n",
    "- Ask the user to guess until they get it right.\n",
    "- If the guess is wrong, print \"Try again\"\n",
    "- If the guess is correct, print \"You got it\" and stop the loop."
   ]
  },
  {
   "cell_type": "code",
   "execution_count": 12,
   "id": "9be20b32",
   "metadata": {},
   "outputs": [
    {
     "name": "stdout",
     "output_type": "stream",
     "text": [
      "Try again\n",
      "Try again\n",
      "You got it\n"
     ]
    }
   ],
   "source": [
    "secret = 777\n",
    "guess = int(input(\"Guess three digits lucky number from 000 to 999\"))\n",
    "while guess != secret:\n",
    "    print (\"Try again\")\n",
    "    guess = int(input(\"Guess three digits lucky number from 000 to 999\"))\n",
    "\n",
    "print (\"You got it\")"
   ]
  },
  {
   "cell_type": "markdown",
   "id": "151e1105",
   "metadata": {},
   "source": [
    "Shopping Cart Checkout System\n",
    "\n",
    "Use initial variable total_bill=0\n",
    "Ask user to add price and add the price to total_bill.\n",
    "If total_bill>1000, print (\"limit reached. You cannot buy anymore\" and break the loop)\n",
    "Otherwise, ask the user to add price"
   ]
  },
  {
   "cell_type": "code",
   "execution_count": 14,
   "id": "8ccd80d0",
   "metadata": {},
   "outputs": [
    {
     "name": "stdout",
     "output_type": "stream",
     "text": [
      "Add the price\n",
      "Add the price\n",
      "Add the price\n",
      "Add the price\n",
      "limit reached\n"
     ]
    }
   ],
   "source": [
    "total_bill=0\n",
    "while True:\n",
    "    price = float(input(\"Add price\"))\n",
    "    total_bill += price\n",
    "    if total_bill > 1000:\n",
    "        print(\"limit reached\")\n",
    "        break\n",
    "    else:\n",
    "        print(\"Add the price\")"
   ]
  }
 ],
 "metadata": {
  "kernelspec": {
   "display_name": "Python 3",
   "language": "python",
   "name": "python3"
  },
  "language_info": {
   "codemirror_mode": {
    "name": "ipython",
    "version": 3
   },
   "file_extension": ".py",
   "mimetype": "text/x-python",
   "name": "python",
   "nbconvert_exporter": "python",
   "pygments_lexer": "ipython3",
   "version": "3.12.6"
  }
 },
 "nbformat": 4,
 "nbformat_minor": 5
}
