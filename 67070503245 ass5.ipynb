{
 "cells": [
  {
   "cell_type": "code",
   "execution_count": 13,
   "id": "dc51e10b",
   "metadata": {},
   "outputs": [],
   "source": [
    "class Car:\n",
    "    def __init__(self, model, rent_per_day, available):\n",
    "        self.model = model\n",
    "        self.rent_per_day = rent_per_day\n",
    "        self.available = True\n",
    "\n",
    "    def rent(self, days):\n",
    "        if self.available:\n",
    "            self.available = False\n",
    "            print(\"Car rented. Total cost= \", self.rent_per_day )\n",
    "        else:\n",
    "            print(\"Car not available\")\n",
    "\n",
    "    def return_car(self):\n",
    "        self.available = True\n",
    "        print(\"Car returned\")\n",
    "\n",
    "    def display(self):\n",
    "        print(f\"Model: {self.model}, Rent per day: {self.rent_per_day}, Availability: {self.available}\")"
   ]
  },
  {
   "cell_type": "code",
   "execution_count": 14,
   "id": "fb2a5649",
   "metadata": {},
   "outputs": [
    {
     "name": "stdout",
     "output_type": "stream",
     "text": [
      "Car rented. Total cost=  50\n",
      "Model: Toyota, Rent per day: 50, Availability: False\n",
      "Car returned\n",
      "Model: Toyota, Rent per day: 50, Availability: True\n"
     ]
    }
   ],
   "source": [
    "car = Car(\"Toyota\", 50, True)\n",
    "car.rent(5)\n",
    "car.display()\n",
    "car.return_car()\n",
    "car.display()"
   ]
  },
  {
   "cell_type": "markdown",
   "id": "78e772ff",
   "metadata": {},
   "source": [
    "# Inheritance\n",
    "\n",
    "Step 1: Parent Class - Person\n",
    "1. Define a class \"Person\",\n",
    "2. Add __init__(self, name, age) and store those values on the object.\n",
    "3. Add a method display_info (self) that prints:\n",
    "    Name: <name>, Age:<age>\n",
    "\n",
    "Step 2: Child class - Student\n",
    "1. Define a class \"Person\",\n",
    "2. Add __init__ function with suoer() to inherits from \"Person\"\n",
    "3. Add a new attriute \"marks\" and set it to an empty dictionar {}:\n",
    "    e.g., {\"Math\": 85}\n",
    "4. Implement add_mark "
   ]
  },
  {
   "cell_type": "code",
   "execution_count": 22,
   "id": "235ce08b",
   "metadata": {},
   "outputs": [],
   "source": [
    "class Person:\n",
    "    def __init__ (self, name, age):\n",
    "        self.name = name\n",
    "        self.age = age\n",
    "\n",
    "    def display_info(self):\n",
    "        print(f\"Name: {self.name}, Age: {self.age}\")\n",
    "\n",
    "class Student(Person):\n",
    "    def __init__(self, name, age, marks):\n",
    "        super().__init__(name, age)\n",
    "        self.marks = dict(marks)\n",
    "\n",
    "    def add_marks(self, subject, score):\n",
    "        if subject not in self.marks:\n",
    "            self.marks[subject] = score\n",
    "            print(\"Added a new suject\")\n",
    "        else:\n",
    "            old_score = self.marks[subject]\n",
    "            self.marks[subject] += score\n",
    "            print (\"Updated the score of the subject\")\n",
    "            print(\"old score=\", old_score)\n",
    "            print(\"new score=\", score)\n",
    "\n",
    "    def display_marks(self):\n",
    "        print(\"Marks:\", self.marks)\n",
    "\n",
    "    def average(self):\n",
    "        print(\"Marks\", self.marks)\n",
    "\n",
    "    def average(self):\n",
    "        if self.marks:\n",
    "            avg = sum(self.marks.values()) / len(self.marks)\n",
    "            print(\"Average Marks:\", avg)\n",
    "        else:\n",
    "            print(\"No marks Available\")"
   ]
  },
  {
   "cell_type": "code",
   "execution_count": 23,
   "id": "6dd089d7",
   "metadata": {},
   "outputs": [
    {
     "name": "stdout",
     "output_type": "stream",
     "text": [
      "Name: Alice, Age: 20\n",
      "Added a new suject\n",
      "Updated the score of the subject\n",
      "old score= 80\n",
      "new score= 10\n",
      "Added a new suject\n",
      "Marks: {'Math': 90, 'Science': 90, 'English': 85}\n",
      "Average Marks: 88.33333333333333\n"
     ]
    }
   ],
   "source": [
    "student = Student(\"Alice\", 20, {\"Math\":80})\n",
    "student.display_info()\n",
    "student.add_marks(\"Science\", 90)\n",
    "student.add_marks(\"Math\", 10)\n",
    "student.add_marks(\"English\", 85)\n",
    "student.display_marks()\n",
    "student.average()"
   ]
  }
 ],
 "metadata": {
  "kernelspec": {
   "display_name": "Python 3",
   "language": "python",
   "name": "python3"
  },
  "language_info": {
   "codemirror_mode": {
    "name": "ipython",
    "version": 3
   },
   "file_extension": ".py",
   "mimetype": "text/x-python",
   "name": "python",
   "nbconvert_exporter": "python",
   "pygments_lexer": "ipython3",
   "version": "3.12.6"
  }
 },
 "nbformat": 4,
 "nbformat_minor": 5
}
